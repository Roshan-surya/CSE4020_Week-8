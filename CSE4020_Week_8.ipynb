{
  "nbformat": 4,
  "nbformat_minor": 0,
  "metadata": {
    "colab": {
      "provenance": []
    },
    "kernelspec": {
      "name": "python3",
      "display_name": "Python 3"
    },
    "language_info": {
      "name": "python"
    }
  },
  "cells": [
    {
      "cell_type": "markdown",
      "source": [
        "## LAB TITLE: MACHINE LEARNING$\\;\\;\\;\\;\\;\\;\\;\\;\\;\\;\\;\\;\\;\\;\\;\\;\\;\\;\\;\\;\\;\\;$ LAB CODE: CSE4020$\\;\\;\\;\\;$Assignment No:8"
      ],
      "metadata": {
        "id": "mnwC9gXqCWmx"
      }
    },
    {
      "cell_type": "code",
      "source": [
        "Num, Name = input(\"Reg. Number:\"), input(\"Name:\")"
      ],
      "metadata": {
        "id": "viyX4gH0Cy7o"
      },
      "execution_count": null,
      "outputs": []
    },
    {
      "cell_type": "markdown",
      "source": [
        "Implement the Decision Tree Regressor from scratch using standard deviation."
      ],
      "metadata": {
        "id": "1ikX5oTo9zoT"
      }
    },
    {
      "cell_type": "markdown",
      "source": [
        "Implement the Decision Tree Regressor using sklearn library on Housprice Dataset [Dataset](https://www.kaggle.com/competitions/house-prices-advanced-regression-techniques/data)."
      ],
      "metadata": {
        "id": "EDCGNjn4DR6T"
      }
    },
    {
      "cell_type": "markdown",
      "source": [
        "### For uploading you need to execute the follwing script"
      ],
      "metadata": {
        "id": "5QkdZU7nDK8S"
      }
    },
    {
      "cell_type": "code",
      "source": [
        "from google.colab import auth\n",
        "auth.authenticate_user()\n",
        "import requests\n",
        "gcloud_token = !gcloud auth print-access-token\n",
        "gcloud_tokeninfo = requests.get('https://www.googleapis.com/oauth2/v3/tokeninfo?access_token=' + gcloud_token[0]).json()\n",
        "user = gcloud_tokeninfo['email']\n",
        "import datetime\n",
        "dt = datetime.datetime.now()\n",
        "x = str(dt).split('.')[0]\n",
        "print(f\"This Script is executed by: \",user, \"at\", x)"
      ],
      "metadata": {
        "id": "kTP8q_3QDSJS"
      },
      "execution_count": null,
      "outputs": []
    },
    {
      "cell_type": "markdown",
      "source": [
        "### Congratulations you have reached to the end of the work sheet\n",
        "\n",
        "*  go to file and print as `PDF` and upload the `PDF` it into MS Teams Link"
      ],
      "metadata": {
        "id": "h51gimtuDX1N"
      }
    }
  ]
}